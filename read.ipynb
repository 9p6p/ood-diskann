{
 "cells": [
  {
   "cell_type": "code",
   "execution_count": 3,
   "metadata": {},
   "outputs": [],
   "source": [
    "import numpy as np\n",
    "import struct\n",
    "\n",
    "def load_graph(filename):\n",
    "    with open(filename, 'rb') as file:\n",
    "        index_size = np.frombuffer(file.read(8), dtype=np.uint64)\n",
    "        degree = np.frombuffer(file.read(4), dtype=np.uint32)\n",
    "        ep = np.frombuffer(file.read(4), dtype=np.uint32)\n",
    "        frozen_pts = np.frombuffer(file.read(8), dtype=np.uint64)\n",
    "        content = file.read()\n",
    "        \n",
    "    print(index_size)\n",
    "    print(degree)\n",
    "    print(ep)\n",
    "    print(frozen_pts)\n",
    "    \n",
    "    content = np.frombuffer(content, dtype=np.uint32)\n",
    "    final_graph = []\n",
    "    pos = 0\n",
    "    length = len(content)\n",
    "\n",
    "    while pos < length:\n",
    "        k = content[pos]\n",
    "        pos += 1\n",
    "        tmp = content[pos:pos + k]\n",
    "        final_graph.append(tmp)\n",
    "        pos += k\n",
    "\n",
    "    return final_graph"
   ]
  },
  {
   "cell_type": "code",
   "execution_count": 4,
   "metadata": {},
   "outputs": [
    {
     "name": "stdout",
     "output_type": "stream",
     "text": [
      "[3378343176]\n",
      "[83]\n",
      "[20008960]\n",
      "[1]\n"
     ]
    }
   ],
   "source": [
    "graph = load_graph(\"/home/yuxiang/RoarGraph-tochange/indices/laion-10M/robustvamana.index\")"
   ]
  },
  {
   "cell_type": "code",
   "execution_count": 7,
   "metadata": {},
   "outputs": [
    {
     "data": {
      "text/plain": [
       "20008961"
      ]
     },
     "execution_count": 7,
     "metadata": {},
     "output_type": "execute_result"
    }
   ],
   "source": [
    "len(graph)"
   ]
  },
  {
   "cell_type": "code",
   "execution_count": 12,
   "metadata": {},
   "outputs": [
    {
     "data": {
      "text/plain": [
       "array([20008960,  7943043,   876382,   224612,  8661655,  4973862,\n",
       "        8554228,  5973032,  2158172,  8493666,  9262362,  5205255,\n",
       "          45151,  7894500,  2114458,  8587380,  9898851,  1309673,\n",
       "        1678708], dtype=uint32)"
      ]
     },
     "execution_count": 12,
     "metadata": {},
     "output_type": "execute_result"
    }
   ],
   "source": [
    "graph[20008958]"
   ]
  }
 ],
 "metadata": {
  "kernelspec": {
   "display_name": "nips",
   "language": "python",
   "name": "python3"
  },
  "language_info": {
   "codemirror_mode": {
    "name": "ipython",
    "version": 3
   },
   "file_extension": ".py",
   "mimetype": "text/x-python",
   "name": "python",
   "nbconvert_exporter": "python",
   "pygments_lexer": "ipython3",
   "version": "3.10.13"
  }
 },
 "nbformat": 4,
 "nbformat_minor": 2
}
